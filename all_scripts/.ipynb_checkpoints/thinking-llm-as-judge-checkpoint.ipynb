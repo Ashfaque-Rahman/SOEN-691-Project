{
 "cells": [
  {
   "cell_type": "code",
   "execution_count": 5,
   "id": "34b48b50-5f92-4e8e-a6ac-a990b3d00a0d",
   "metadata": {},
   "outputs": [],
   "source": [
    "from transformers import AutoTokenizer, AutoModelForCausalLM, GenerationConfig, BitsAndBytesConfig\n",
    "import copy, os, torch, gc"
   ]
  },
  {
   "cell_type": "code",
   "execution_count": null,
   "id": "d41811a1-ed5f-4026-aa4a-0f19c705bf46",
   "metadata": {
    "scrolled": true
   },
   "outputs": [
    {
     "name": "stderr",
     "output_type": "stream",
     "text": [
      "/speed-scratch/ra_mdash/tmp/jupyter-venv/lib/python3.11/site-packages/accelerate/utils/modeling.py:1569: UserWarning: Current model requires 32.0 bytes of buffer for offloaded layers, which seems does not fit any GPU's remaining memory. If you are experiencing a OOM later, please consider using offload_buffers=True.\n",
      "  warnings.warn(\n"
     ]
    },
    {
     "data": {
      "application/vnd.jupyter.widget-view+json": {
       "model_id": "d53589a634d246ef8d816fe05772e46b",
       "version_major": 2,
       "version_minor": 0
      },
      "text/plain": [
       "Loading checkpoint shards:   0%|          | 0/30 [00:00<?, ?it/s]"
      ]
     },
     "metadata": {},
     "output_type": "display_data"
    }
   ],
   "source": [
    "cache_dir = \"/speed-scratch/ra_mdash/tmp/huggingface\"\n",
    "os.environ[\"PYTORCH_CUDA_ALLOC_CONF\"] = \"expandable_segments:True\"\n",
    "\n",
    "HUGGINGFACE_TOKEN = \"\"\n",
    "\n",
    "torch.cuda.set_device(0)\n",
    "gc.collect()\n",
    "torch.cuda.empty_cache()\n",
    "\n",
    "bnb_config = BitsAndBytesConfig(\n",
    "    load_in_4bit=True,\n",
    "    bnb_4bit_compute_dtype=torch.float16,  # Use FP16 for computations\n",
    "    # bnb_4bit_quant_type=\"nf4\",            # Normal Float 4 (NF4) data type\n",
    "    bnb_4bit_use_double_quant=False,        # Enable double quantization\n",
    "    llm_int8_enable_fp32_cpu_offload=True  # Enable CPU offloading for 32-bit modules\n",
    ")\n",
    "\n",
    "tokenizer = AutoTokenizer.from_pretrained(\n",
    "    \"facebook/Self-taught-evaluator-llama3.1-70B\",\n",
    "    subfolder=\"dpo_model\",\n",
    "    cache_dir=cache_dir,\n",
    "    use_auth_token=HUGGINGFACE_TOKEN\n",
    ")\n",
    "\n",
    "model = AutoModelForCausalLM.from_pretrained(\n",
    "    \"facebook/Self-taught-evaluator-llama3.1-70B\",\n",
    "    subfolder=\"dpo_model\",\n",
    "    device_map=\"auto\",\n",
    "    cache_dir=cache_dir,\n",
    "    use_auth_token=HUGGINGFACE_TOKEN,\n",
    "    quantization_config=bnb_config\n",
    ")\n"
   ]
  },
  {
   "cell_type": "code",
   "execution_count": 7,
   "id": "d29afd41-6189-4203-91b1-ad75d9188391",
   "metadata": {},
   "outputs": [],
   "source": [
    "SELF_TAUGHT_WITH_SYSTEM_PROMPT = [\n",
    "    {\n",
    "        \"role\": \"system\",\n",
    "        \"content\": 'Please act as an impartial judge and evaluate the quality of the responses provided by two AI assistants to the user question displayed below. You should choose the assistant that follows the user\\'s instructions and answers the user\\'s question better. Your evaluation should consider factors such as the helpfulness, relevance, accuracy, depth, creativity, and level of detail of their responses. Begin your evaluation by comparing the two responses and provide a short explanation. Avoid any position biases and ensure that the order in which the responses were presented does not influence your decision. Do not allow the length of the responses to influence your evaluation. Do not favor certain names of the assistants. Be as objective as possible. After providing your explanation, output your final verdict by strictly following this format: \\\\\"[[A]]\\\\\" if assistant A is better, \\\\\"[[B]]\\\\\" if assistant B is better.',\n",
    "    },\n",
    "    {\n",
    "        \"role\": \"user\",\n",
    "        \"content\": \"\"\"[User Question]\n",
    "{input}\n",
    "\n",
    "[The Start of Assistant A's Answer]\n",
    "{response_a}\n",
    "[The End of Assistant A's Answer]\n",
    "\n",
    "[The Start of Assistant B's Answer]\n",
    "{response_b}\n",
    "[The End of Assistant B's Answer]\n",
    "\"\"\",\n",
    "    },\n",
    "]\n",
    "\n",
    "example_inputs = {\n",
    "    \"input\": \"explain master slave replication nsql\",\n",
    "    \"response_a\": \"In the context of NoSQL databases, master-slave replication refers to a configuration where a single master node writes data, and one or more slave nodes read data from the master and replicate it to provide read scalability. The master node is responsible for accepting write requests and updating its own data, while the slave nodes are responsible for replicating the data from the master and serving read requests.\",\n",
    "    \"response_b\": \"In SQL, master-slave replication is a technique used to create a copy of a database on a separate server. The master server is the primary server that contains the original data, while the slave server is the secondary server that contains a copy of the data. The master server sends updates to the slave server, which then applies them to its own database.\"\n",
    "}"
   ]
  },
  {
   "cell_type": "code",
   "execution_count": null,
   "id": "78ba8e61-6481-41eb-b056-56a79b53d720",
   "metadata": {
    "scrolled": true
   },
   "outputs": [],
   "source": [
    "conversation = copy.copy(SELF_TAUGHT_WITH_SYSTEM_PROMPT)\n",
    "conversation[-1][\"content\"] = conversation[-1][\"content\"].format(**example_inputs)\n",
    "\n",
    "tokenized_input = tokenizer.apply_chat_template(conversation, return_tensors=\"pt\").to(model.device)\n",
    "gen_cfg = GenerationConfig(max_length=2048, do_sample=False)\n",
    "\n",
    "judgement = model.generate(tokenized_input, gen_cfg)\n",
    "judgement_text = tokenizer.decode(judgement.cpu().tolist()[0])"
   ]
  },
  {
   "cell_type": "code",
   "execution_count": 13,
   "id": "98210ed7-6ec0-418d-81a9-51efdb7b7f56",
   "metadata": {
    "scrolled": true
   },
   "outputs": [
    {
     "data": {
      "text/plain": [
       "torch.int64"
      ]
     },
     "execution_count": 13,
     "metadata": {},
     "output_type": "execute_result"
    }
   ],
   "source": [
    "tokenized_input.dtype"
   ]
  },
  {
   "cell_type": "code",
   "execution_count": null,
   "id": "ad6692ba-fb4c-47e9-bc51-21b46178652b",
   "metadata": {},
   "outputs": [],
   "source": []
  }
 ],
 "metadata": {
  "kernelspec": {
   "display_name": "Python 3 (ipykernel)",
   "language": "python",
   "name": "python3"
  },
  "language_info": {
   "codemirror_mode": {
    "name": "ipython",
    "version": 3
   },
   "file_extension": ".py",
   "mimetype": "text/x-python",
   "name": "python",
   "nbconvert_exporter": "python",
   "pygments_lexer": "ipython3",
   "version": "3.9.11"
  }
 },
 "nbformat": 4,
 "nbformat_minor": 5
}
